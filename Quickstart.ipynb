{
 "cells": [
  {
   "cell_type": "markdown",
   "metadata": {},
   "source": [
    "# How to grab key-value pairs from a local file"
   ]
  },
  {
   "cell_type": "markdown",
   "metadata": {},
   "source": [
    "If you haven’t already, create a Lazarus Forms account (link to the get started guide) and grab you **authKey** and **orgId**.\n",
    "___"
   ]
  },
  {
   "cell_type": "markdown",
   "metadata": {},
   "source": [
    "The only package you will need to import is the requests package"
   ]
  },
  {
   "cell_type": "code",
   "execution_count": null,
   "metadata": {},
   "outputs": [],
   "source": [
    "import requests"
   ]
  },
  {
   "cell_type": "markdown",
   "metadata": {},
   "source": [
    "For this example, we will be using an example form that is attached to this notebook, though you can select another image or pdf."
   ]
  },
  {
   "cell_type": "code",
   "execution_count": null,
   "metadata": {},
   "outputs": [],
   "source": [
    "form_to_analyze = open('./Example Form.png', 'rb')"
   ]
  },
  {
   "cell_type": "markdown",
   "metadata": {},
   "source": [
    "Once you have a pdf or image that you want to analyze, we can start making a POST request to the url below:"
   ]
  },
  {
   "cell_type": "code",
   "execution_count": null,
   "metadata": {},
   "outputs": [],
   "source": [
    "url = \"https://api.lazarusforms.com/api/forms/generic\""
   ]
  },
  {
   "cell_type": "markdown",
   "metadata": {},
   "source": [
    "As stated in the docs, we are going to need to pass the **authKey** and **orgId** in the headers.\n",
    "\n",
    "**Make sure to add in your credentials here.**"
   ]
  },
  {
   "cell_type": "code",
   "execution_count": null,
   "metadata": {},
   "outputs": [],
   "source": [
    "headers = {\n",
    "  'orgId': 'your orgID here',\n",
    "  'authKey': 'your authKey here'\n",
    "}"
   ]
  },
  {
   "cell_type": "markdown",
   "metadata": {},
   "source": [
    "We will also have to pass **form_to_analyze** (as part of a multipart form)."
   ]
  },
  {
   "cell_type": "code",
   "execution_count": null,
   "metadata": {},
   "outputs": [],
   "source": [
    "files=[\n",
    "  ('file',('file_name', form_to_analyze, 'application/octet-stream'))\n",
    "]"
   ]
  },
  {
   "cell_type": "markdown",
   "metadata": {},
   "source": [
    "Now we have all we need to run the POST request!"
   ]
  },
  {
   "cell_type": "code",
   "execution_count": null,
   "metadata": {},
   "outputs": [],
   "source": [
    "response = requests.post(url, headers=headers, files=files)"
   ]
  },
  {
   "cell_type": "markdown",
   "metadata": {},
   "source": [
    "If all went well, you should have recieved a JSON response.\n",
    "\n",
    "There is a chance you run into an error here so it is best to use a try-except here."
   ]
  },
  {
   "cell_type": "code",
   "execution_count": null,
   "metadata": {},
   "outputs": [],
   "source": [
    "try:\n",
    "    data_to_use = response.json()\n",
    "except:\n",
    "    print(\"There was an error\")\n",
    "    print(response)"
   ]
  },
  {
   "cell_type": "markdown",
   "metadata": {},
   "source": [
    "While having a giant JSON is nice to look at, in this task, we are only interested in the 'keyValuePairs', which is an array."
   ]
  },
  {
   "cell_type": "code",
   "execution_count": null,
   "metadata": {},
   "outputs": [],
   "source": [
    "key_values_pairs = data_to_use['keyValuePairs']"
   ]
  },
  {
   "cell_type": "markdown",
   "metadata": {},
   "source": [
    "Now we need to parse through the pairs and grab the content of each key and value.\n",
    "\n",
    "One thing to note is that some pairs may have a missing value if the model did not detect it or the form field was left blank, in this case we can avoid grabing that pair. "
   ]
  },
  {
   "cell_type": "code",
   "execution_count": null,
   "metadata": {},
   "outputs": [],
   "source": [
    "key_values = []\n",
    "for pair in key_values_pairs:\n",
    "    try:\n",
    "        key_values.append({\n",
    "            'key' : pair['key']['content'],\n",
    "            'value' : pair['value']['content']\n",
    "        })\n",
    "    except:\n",
    "        pass"
   ]
  },
  {
   "cell_type": "markdown",
   "metadata": {},
   "source": [
    "At this point, we now have a list of filled in form fields."
   ]
  },
  {
   "cell_type": "code",
   "execution_count": null,
   "metadata": {},
   "outputs": [],
   "source": [
    "print(key_values)"
   ]
  },
  {
   "cell_type": "markdown",
   "metadata": {},
   "source": [
    "As mentioned earlier, there may be a case where some of the fields were left blank or not detected, it would be useful to collect those incomplete key-values a present them to a reviewer to confirm and make corrections."
   ]
  },
  {
   "cell_type": "code",
   "execution_count": null,
   "metadata": {},
   "outputs": [],
   "source": [
    "key_values = []\n",
    "missing_values = []\n",
    "for pair in key_values_pairs:\n",
    "    try:\n",
    "        key_values.append({\n",
    "            'key' : pair['key']['content'],\n",
    "            'value' : pair['value']['content']\n",
    "        })\n",
    "    except:\n",
    "        print('Missing: ' + pair['key']['content'])\n",
    "        missing_values.append({\n",
    "            'key' : pair['key']['content']\n",
    "        })"
   ]
  }
 ],
 "metadata": {
  "kernelspec": {
   "display_name": "Python 3",
   "language": "python",
   "name": "python3"
  },
  "language_info": {
   "codemirror_mode": {
    "name": "ipython",
    "version": 3
   },
   "file_extension": ".py",
   "mimetype": "text/x-python",
   "name": "python",
   "nbconvert_exporter": "python",
   "pygments_lexer": "ipython3",
   "version": "3.8.3"
  },
  "pycharm": {
   "stem_cell": {
    "cell_type": "raw",
    "metadata": {
     "collapsed": false
    },
    "source": [
     "How to analyze a local file\n",
     "\n",
     "\n",
     "\n"
    ]
   }
  }
 },
 "nbformat": 4,
 "nbformat_minor": 1
}
